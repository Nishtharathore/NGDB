{
 "cells": [
  {
   "cell_type": "code",
   "execution_count": 3,
   "id": "38af9243",
   "metadata": {},
   "outputs": [],
   "source": [
    "import numpy as np \n",
    "import pandas as pd\n",
    "import seaborn as sns\n",
    "from sklearn.linear_model import LogisticRegression\n",
    "from sklearn.metrics import accuracy_score,precision_score, recall_score, f1_score, confusion_matrix\n",
    "from sklearn.model_selection import train_test_split\n",
    "import pymongo\n",
    "import pandas as pd\n",
    "from pymongo import MongoClient\n",
    "client = MongoClient()\n",
    "db = client.project"
   ]
  },
  {
   "cell_type": "code",
   "execution_count": 4,
   "id": "21b95702",
   "metadata": {},
   "outputs": [],
   "source": [
    "per_list= list(db.performance.find())\n",
    "per_df = pd.DataFrame(per_list)"
   ]
  },
  {
   "cell_type": "code",
   "execution_count": 5,
   "id": "de9d0f1d",
   "metadata": {},
   "outputs": [
    {
     "name": "stdout",
     "output_type": "stream",
     "text": [
      "                          _id  study_hours  attendance  pass_fail\n",
      "0    65566162f20144537f7a525c     6.789594   78.131553          1\n",
      "1    65566162f20144537f7a525d     8.339153   84.883468          1\n",
      "2    65566162f20144537f7a525e     1.640698   61.015454          0\n",
      "3    65566162f20144537f7a525f     3.178497   65.103212          0\n",
      "4    65566162f20144537f7a5260     9.168098   64.825435          0\n",
      "..                        ...          ...         ...        ...\n",
      "495  65566162f20144537f7a544b     4.693446   68.253349          0\n",
      "496  65566162f20144537f7a544c     8.284250   64.425269          0\n",
      "497  65566162f20144537f7a544d     4.371514   80.087800          0\n",
      "498  65566162f20144537f7a544e     7.308722   70.892293          1\n",
      "499  65566162f20144537f7a544f     3.829204   67.080419          0\n",
      "\n",
      "[500 rows x 4 columns]\n"
     ]
    }
   ],
   "source": [
    "print(per_df)"
   ]
  },
  {
   "cell_type": "code",
   "execution_count": 6,
   "id": "f2e40501",
   "metadata": {},
   "outputs": [],
   "source": [
    "per_df = per_df.drop('_id',axis=1)"
   ]
  },
  {
   "cell_type": "code",
   "execution_count": 7,
   "id": "69c07f04",
   "metadata": {},
   "outputs": [
    {
     "data": {
      "text/plain": [
       "<Axes: >"
      ]
     },
     "execution_count": 7,
     "metadata": {},
     "output_type": "execute_result"
    },
    {
     "data": {
      "image/png": "[encoded data removed]",
      "text/plain": [
       "<Figure size 640x480 with 2 Axes>"
      ]
     },
     "metadata": {},
     "output_type": "display_data"
    }
   ],
   "source": [
    "sns.heatmap(per_df.corr(),cmap = 'plasma')"
   ]
  },
  {
   "cell_type": "code",
   "execution_count": 8,
   "id": "1c3dd3af",
   "metadata": {},
   "outputs": [
    {
     "name": "stdout",
     "output_type": "stream",
     "text": [
      "     study_hours  attendance  pass_fail\n",
      "0       6.789594   78.131553          1\n",
      "1       8.339153   84.883468          1\n",
      "2       1.640698   61.015454          0\n",
      "3       3.178497   65.103212          0\n",
      "4       9.168098   64.825435          0\n",
      "..           ...         ...        ...\n",
      "495     4.693446   68.253349          0\n",
      "496     8.284250   64.425269          0\n",
      "497     4.371514   80.087800          0\n",
      "498     7.308722   70.892293          1\n",
      "499     3.829204   67.080419          0\n",
      "\n",
      "[500 rows x 3 columns]\n"
     ]
    }
   ],
   "source": [
    "print(per_df)"
   ]
  },
  {
   "cell_type": "code",
   "execution_count": 9,
   "id": "cf08eb6a",
   "metadata": {},
   "outputs": [
    {
     "name": "stdout",
     "output_type": "stream",
     "text": [
      "Accuracy: 0.85\n"
     ]
    }
   ],
   "source": [
    "X = per_df.iloc[:,0:2]\n",
    "y = per_df.iloc[:,-1]\n",
    "X_train, X_test, y_train, y_test = train_test_split(X, y, test_size=0.2, random_state=42)\n",
    "clf = LogisticRegression()\n",
    "clf.fit(X_train, y_train)\n",
    "y_pred = clf.predict(X_test)\n",
    "accuracy = accuracy_score(y_test, y_pred)\n",
    "print(f\"Accuracy: {accuracy:.2f}\")"
   ]
  },
  {
   "cell_type": "code",
   "execution_count": 10,
   "id": "b7bad828",
   "metadata": {},
   "outputs": [
    {
     "name": "stdout",
     "output_type": "stream",
     "text": [
      "Accuracy: 0.85\n",
      "Precision: 0.85\n",
      "Recall: 0.84\n",
      "F1 Score: 0.84\n",
      "Confusion Matrix:\n",
      "[[52  7]\n",
      " [ 8 33]]\n"
     ]
    }
   ],
   "source": [
    "accuracy = accuracy_score(y_test, y_pred)\n",
    "precision = precision_score(y_test, y_pred, average='macro')\n",
    "recall = recall_score(y_test, y_pred, average='macro')\n",
    "f1 = f1_score(y_test, y_pred, average='macro')\n",
    "conf_matrix = confusion_matrix(y_test, y_pred)\n",
    "print(f\"Accuracy: {accuracy:.2f}\")\n",
    "print(f\"Precision: {precision:.2f}\")\n",
    "print(f\"Recall: {recall:.2f}\")\n",
    "print(f\"F1 Score: {f1:.2f}\")\n",
    "print(\"Confusion Matrix:\")\n",
    "print(conf_matrix)"
   ]
  },
  {
   "cell_type": "code",
   "execution_count": 11,
   "id": "f72b4861",
   "metadata": {},
   "outputs": [
    {
     "data": {
      "text/html": [
       "<div>\n",
       "<style scoped>\n",
       "    .dataframe tbody tr th:only-of-type {\n",
       "        vertical-align: middle;\n",
       "    }\n",
       "\n",
       "    .dataframe tbody tr th {\n",
       "        vertical-align: top;\n",
       "    }\n",
       "\n",
       "    .dataframe thead th {\n",
       "        text-align: right;\n",
       "    }\n",
       "</style>\n",
       "<table border=\"1\" class=\"dataframe\">\n",
       "  <thead>\n",
       "    <tr style=\"text-align: right;\">\n",
       "      <th></th>\n",
       "      <th>study_hours</th>\n",
       "      <th>attendance</th>\n",
       "      <th>pass_fail</th>\n",
       "    </tr>\n",
       "  </thead>\n",
       "  <tbody>\n",
       "    <tr>\n",
       "      <th>study_hours</th>\n",
       "      <td>1.000000</td>\n",
       "      <td>0.010354</td>\n",
       "      <td>0.637429</td>\n",
       "    </tr>\n",
       "    <tr>\n",
       "      <th>attendance</th>\n",
       "      <td>0.010354</td>\n",
       "      <td>1.000000</td>\n",
       "      <td>0.387979</td>\n",
       "    </tr>\n",
       "    <tr>\n",
       "      <th>pass_fail</th>\n",
       "      <td>0.637429</td>\n",
       "      <td>0.387979</td>\n",
       "      <td>1.000000</td>\n",
       "    </tr>\n",
       "  </tbody>\n",
       "</table>\n",
       "</div>"
      ],
      "text/plain": [
       "             study_hours  attendance  pass_fail\n",
       "study_hours     1.000000    0.010354   0.637429\n",
       "attendance      0.010354    1.000000   0.387979\n",
       "pass_fail       0.637429    0.387979   1.000000"
      ]
     },
     "execution_count": 11,
     "metadata": {},
     "output_type": "execute_result"
    }
   ],
   "source": [
    "per_df.corr()"
   ]
  },
  {
   "cell_type": "code",
   "execution_count": null,
   "id": "60fc477d",
   "metadata": {},
   "outputs": [],
   "source": []
  }
 ],
 "metadata": {
  "kernelspec": {
   "display_name": "Python 3 (ipykernel)",
   "language": "python",
   "name": "python3"
  },
  "language_info": {
   "codemirror_mode": {
    "name": "ipython",
    "version": 3
   },
   "file_extension": ".py",
   "mimetype": "text/x-python",
   "name": "python",
   "nbconvert_exporter": "python",
   "pygments_lexer": "ipython3",
   "version": "3.11.5"
  }
 },
 "nbformat": 4,
 "nbformat_minor": 5
}
